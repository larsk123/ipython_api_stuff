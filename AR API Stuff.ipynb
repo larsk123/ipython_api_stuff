{
 "cells": [
  {
   "cell_type": "markdown",
   "metadata": {},
   "source": [
    "# AR API Stuff"
   ]
  },
  {
   "cell_type": "markdown",
   "metadata": {},
   "source": [
    "AR's notebook -- follows along with Lars's notebooks."
   ]
  },
  {
   "cell_type": "markdown",
   "metadata": {},
   "source": [
    "## Imports"
   ]
  },
  {
   "cell_type": "code",
   "execution_count": 15,
   "metadata": {},
   "outputs": [],
   "source": [
    "import json\n",
    "import numpy as np\n",
    "import pandas as pd\n",
    "from pandas.io.json import json_normalize \n",
    "import requests"
   ]
  },
  {
   "cell_type": "markdown",
   "metadata": {},
   "source": [
    "## AlphaVantage"
   ]
  },
  {
   "cell_type": "markdown",
   "metadata": {},
   "source": [
    "Lars's log-in info: lars@kroijer.com / no password / API key: 7I3A5V6DQEWQRQEO"
   ]
  },
  {
   "cell_type": "code",
   "execution_count": 7,
   "metadata": {},
   "outputs": [
    {
     "data": {
      "text/html": [
       "<div>\n",
       "<style scoped>\n",
       "    .dataframe tbody tr th:only-of-type {\n",
       "        vertical-align: middle;\n",
       "    }\n",
       "\n",
       "    .dataframe tbody tr th {\n",
       "        vertical-align: top;\n",
       "    }\n",
       "\n",
       "    .dataframe thead th {\n",
       "        text-align: right;\n",
       "    }\n",
       "</style>\n",
       "<table border=\"1\" class=\"dataframe\">\n",
       "  <thead>\n",
       "    <tr style=\"text-align: right;\">\n",
       "      <th></th>\n",
       "      <th>1. open</th>\n",
       "      <th>2. high</th>\n",
       "      <th>3. low</th>\n",
       "      <th>4. close</th>\n",
       "      <th>5. volume</th>\n",
       "    </tr>\n",
       "  </thead>\n",
       "  <tbody>\n",
       "    <tr>\n",
       "      <th>2018-04-02</th>\n",
       "      <td>90.4700</td>\n",
       "      <td>90.8800</td>\n",
       "      <td>87.5100</td>\n",
       "      <td>88.5200</td>\n",
       "      <td>48515417</td>\n",
       "    </tr>\n",
       "    <tr>\n",
       "      <th>2018-04-03</th>\n",
       "      <td>89.5750</td>\n",
       "      <td>90.0500</td>\n",
       "      <td>87.8900</td>\n",
       "      <td>89.7100</td>\n",
       "      <td>37213837</td>\n",
       "    </tr>\n",
       "    <tr>\n",
       "      <th>2018-04-04</th>\n",
       "      <td>87.8500</td>\n",
       "      <td>92.7600</td>\n",
       "      <td>87.7300</td>\n",
       "      <td>92.3300</td>\n",
       "      <td>35559956</td>\n",
       "    </tr>\n",
       "    <tr>\n",
       "      <th>2018-04-05</th>\n",
       "      <td>92.4350</td>\n",
       "      <td>93.0650</td>\n",
       "      <td>91.4000</td>\n",
       "      <td>92.3800</td>\n",
       "      <td>29771881</td>\n",
       "    </tr>\n",
       "    <tr>\n",
       "      <th>2018-04-06</th>\n",
       "      <td>91.4900</td>\n",
       "      <td>92.4600</td>\n",
       "      <td>89.4800</td>\n",
       "      <td>90.2300</td>\n",
       "      <td>38026000</td>\n",
       "    </tr>\n",
       "    <tr>\n",
       "      <th>2018-04-09</th>\n",
       "      <td>91.0400</td>\n",
       "      <td>93.1700</td>\n",
       "      <td>90.6200</td>\n",
       "      <td>90.7700</td>\n",
       "      <td>31533943</td>\n",
       "    </tr>\n",
       "    <tr>\n",
       "      <th>2018-04-10</th>\n",
       "      <td>92.3900</td>\n",
       "      <td>93.2800</td>\n",
       "      <td>91.6400</td>\n",
       "      <td>92.8800</td>\n",
       "      <td>26939883</td>\n",
       "    </tr>\n",
       "    <tr>\n",
       "      <th>2018-04-11</th>\n",
       "      <td>92.0100</td>\n",
       "      <td>93.2900</td>\n",
       "      <td>91.4800</td>\n",
       "      <td>91.8600</td>\n",
       "      <td>24872110</td>\n",
       "    </tr>\n",
       "    <tr>\n",
       "      <th>2018-04-12</th>\n",
       "      <td>92.4300</td>\n",
       "      <td>94.1600</td>\n",
       "      <td>92.4300</td>\n",
       "      <td>93.5800</td>\n",
       "      <td>26758879</td>\n",
       "    </tr>\n",
       "    <tr>\n",
       "      <th>2018-04-13</th>\n",
       "      <td>94.0500</td>\n",
       "      <td>94.1800</td>\n",
       "      <td>92.4400</td>\n",
       "      <td>93.0800</td>\n",
       "      <td>23346063</td>\n",
       "    </tr>\n",
       "  </tbody>\n",
       "</table>\n",
       "</div>"
      ],
      "text/plain": [
       "            1. open  2. high   3. low 4. close 5. volume\n",
       "2018-04-02  90.4700  90.8800  87.5100  88.5200  48515417\n",
       "2018-04-03  89.5750  90.0500  87.8900  89.7100  37213837\n",
       "2018-04-04  87.8500  92.7600  87.7300  92.3300  35559956\n",
       "2018-04-05  92.4350  93.0650  91.4000  92.3800  29771881\n",
       "2018-04-06  91.4900  92.4600  89.4800  90.2300  38026000\n",
       "2018-04-09  91.0400  93.1700  90.6200  90.7700  31533943\n",
       "2018-04-10  92.3900  93.2800  91.6400  92.8800  26939883\n",
       "2018-04-11  92.0100  93.2900  91.4800  91.8600  24872110\n",
       "2018-04-12  92.4300  94.1600  92.4300  93.5800  26758879\n",
       "2018-04-13  94.0500  94.1800  92.4400  93.0800  23346063"
      ]
     },
     "execution_count": 7,
     "metadata": {},
     "output_type": "execute_result"
    }
   ],
   "source": [
    "#input ticker below\n",
    "symbol = \"MSFT\"\n",
    "\n",
    "av_url = f\"https://www.alphavantage.co/query?function=TIME_SERIES_DAILY&symbol={symbol}&apikey=7I3A5V6DQEWQRQEO\"\n",
    "\n",
    "av_r = requests.get(av_url)\n",
    "av_data = av_r.json()\n",
    "av_df = pd.DataFrame.from_dict(av_data[\"Time Series (Daily)\"], orient = \"index\")\n",
    "av_df.head(10)"
   ]
  },
  {
   "cell_type": "markdown",
   "metadata": {},
   "source": [
    "## Quandl"
   ]
  },
  {
   "cell_type": "markdown",
   "metadata": {},
   "source": [
    "Lars's login info: lars@kroijer.com / lkroijer / API key: FsxyvTxSuRjkzknsUhFe"
   ]
  },
  {
   "cell_type": "code",
   "execution_count": 18,
   "metadata": {},
   "outputs": [
    {
     "data": {
      "text/html": [
       "<div>\n",
       "<style scoped>\n",
       "    .dataframe tbody tr th:only-of-type {\n",
       "        vertical-align: middle;\n",
       "    }\n",
       "\n",
       "    .dataframe tbody tr th {\n",
       "        vertical-align: top;\n",
       "    }\n",
       "\n",
       "    .dataframe thead th {\n",
       "        text-align: right;\n",
       "    }\n",
       "</style>\n",
       "<table border=\"1\" class=\"dataframe\">\n",
       "  <thead>\n",
       "    <tr style=\"text-align: right;\">\n",
       "      <th></th>\n",
       "      <th>0</th>\n",
       "    </tr>\n",
       "  </thead>\n",
       "  <tbody>\n",
       "    <tr>\n",
       "      <th>limit</th>\n",
       "      <td>None</td>\n",
       "    </tr>\n",
       "    <tr>\n",
       "      <th>transform</th>\n",
       "      <td>None</td>\n",
       "    </tr>\n",
       "    <tr>\n",
       "      <th>column_index</th>\n",
       "      <td>None</td>\n",
       "    </tr>\n",
       "    <tr>\n",
       "      <th>column_names</th>\n",
       "      <td>[Date, Open, High, Low, Close, Volume, Ex-Divi...</td>\n",
       "    </tr>\n",
       "    <tr>\n",
       "      <th>start_date</th>\n",
       "      <td>2012-05-18</td>\n",
       "    </tr>\n",
       "    <tr>\n",
       "      <th>end_date</th>\n",
       "      <td>2018-03-27</td>\n",
       "    </tr>\n",
       "    <tr>\n",
       "      <th>frequency</th>\n",
       "      <td>daily</td>\n",
       "    </tr>\n",
       "    <tr>\n",
       "      <th>data</th>\n",
       "      <td>[[2018-03-27, 156.31, 162.85, 150.75, 152.19, ...</td>\n",
       "    </tr>\n",
       "    <tr>\n",
       "      <th>collapse</th>\n",
       "      <td>None</td>\n",
       "    </tr>\n",
       "    <tr>\n",
       "      <th>order</th>\n",
       "      <td>None</td>\n",
       "    </tr>\n",
       "  </tbody>\n",
       "</table>\n",
       "</div>"
      ],
      "text/plain": [
       "                                                              0\n",
       "limit                                                      None\n",
       "transform                                                  None\n",
       "column_index                                               None\n",
       "column_names  [Date, Open, High, Low, Close, Volume, Ex-Divi...\n",
       "start_date                                           2012-05-18\n",
       "end_date                                             2018-03-27\n",
       "frequency                                                 daily\n",
       "data          [[2018-03-27, 156.31, 162.85, 150.75, 152.19, ...\n",
       "collapse                                                   None\n",
       "order                                                      None"
      ]
     },
     "execution_count": 18,
     "metadata": {},
     "output_type": "execute_result"
    }
   ],
   "source": [
    "#input ticker below\n",
    "ticker = \"FB\"\n",
    "\n",
    "q_url = f\"https://www.quandl.com/api/v3/datasets/WIKI/{ticker}/data.json?api_key=FsxyvTxSuRjkzknsUhFe\"\n",
    "\n",
    "q_r = requests.get(q_url)\n",
    "# print (q_r.content)\n",
    "q_data = q_r.json()\n",
    "q_df = pd.DataFrame.from_dict(q_data[\"dataset_data\"], orient = \"index\")\n",
    "q_df.head(10)"
   ]
  }
 ],
 "metadata": {
  "kernelspec": {
   "display_name": "Python 3",
   "language": "python",
   "name": "python3"
  },
  "language_info": {
   "codemirror_mode": {
    "name": "ipython",
    "version": 3
   },
   "file_extension": ".py",
   "mimetype": "text/x-python",
   "name": "python",
   "nbconvert_exporter": "python",
   "pygments_lexer": "ipython3",
   "version": "3.6.5"
  }
 },
 "nbformat": 4,
 "nbformat_minor": 2
}
